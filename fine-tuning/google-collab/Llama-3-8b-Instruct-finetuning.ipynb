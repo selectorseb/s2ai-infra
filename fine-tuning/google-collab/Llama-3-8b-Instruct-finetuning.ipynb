{
  "nbformat": 4,
  "nbformat_minor": 0,
  "metadata": {
    "colab": {
      "provenance": [],
      "include_colab_link": true
    },
    "kernelspec": {
      "name": "python3",
      "display_name": "Python 3"
    },
    "language_info": {
      "name": "python"
    }
  },
  "cells": [
    {
      "cell_type": "markdown",
      "metadata": {
        "id": "view-in-github",
        "colab_type": "text"
      },
      "source": [
        "<a href=\"https://colab.research.google.com/github/selector-ai/s2ai-infra/blob/main/fine-tuning/google-collab/Llama-3-8b-Instruct-finetuning.ipynb\" target=\"_parent\"><img src=\"https://colab.research.google.com/assets/colab-badge.svg\" alt=\"Open In Colab\"/></a>"
      ]
    },
    {
      "cell_type": "markdown",
      "source": [
        "# Install pre-requisite packages and add configuration for fine-tuning\n"
      ],
      "metadata": {
        "id": "7mDGKg4J1iQU"
      }
    },
    {
      "cell_type": "code",
      "source": [
        "# Set fine tuning input parameters\n",
        "model_name = \"set model\"\n",
        "load_in_4bit = False\n",
        "max_seq_length = 2048\n",
        "hf_token = \"hf_set_right_token\"\n",
        "dtype = None"
      ],
      "metadata": {
        "id": "AI6h_fOb2QQF"
      },
      "execution_count": null,
      "outputs": []
    },
    {
      "cell_type": "code",
      "execution_count": null,
      "metadata": {
        "id": "kKW6pNtYz5fm"
      },
      "outputs": [],
      "source": [
        "%%capture\n",
        "!pip install \"unsloth[colab-new] @ git+https://github.com/unslothai/unsloth.git\"\n",
        "!pip install --no-deps xformers trl peft accelerate bitsandbytes"
      ]
    },
    {
      "cell_type": "code",
      "source": [
        "# Instantiate Language Model\n",
        "from unsloth import FastLanguageModel\n",
        "import torch\n",
        "model, tokenizer = FastLanguageModel.from_pretrained(\n",
        "    model_name = model_name,\n",
        "    max_seq_length = max_seq_length,\n",
        "    dtype = dtype,\n",
        "    load_in_4bit = load_in_4bit,\n",
        "    token = hf_token, # gated model\n",
        ")"
      ],
      "metadata": {
        "id": "Zj7Rv2Sd2OaO"
      },
      "execution_count": null,
      "outputs": []
    }
  ]
}